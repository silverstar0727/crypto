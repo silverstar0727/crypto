{
 "cells": [
  {
   "cell_type": "code",
   "execution_count": 2,
   "id": "f29f0d89",
   "metadata": {
    "_cell_guid": "32139c11-ed2b-48f7-81a9-0e3a2e64bdbe",
    "_uuid": "814cda9d-3fae-456b-939f-e8c5ef336e3e",
    "collapsed": false,
    "execution": {
     "iopub.execute_input": "2023-10-24T12:09:50.487271Z",
     "iopub.status.busy": "2023-10-24T12:09:50.486215Z",
     "iopub.status.idle": "2023-10-24T12:10:00.080687Z",
     "shell.execute_reply": "2023-10-24T12:10:00.079518Z",
     "shell.execute_reply.started": "2023-10-24T12:09:50.48723Z"
    },
    "jupyter": {
     "outputs_hidden": false
    },
    "papermill": {
     "duration": null,
     "end_time": null,
     "exception": null,
     "start_time": null,
     "status": "pending"
    },
    "tags": []
   },
   "outputs": [],
   "source": [
    "import numpy as np\n",
    "import pandas as pd\n",
    "import matplotlib.pyplot as plt\n",
    "import tensorflow as tf\n",
    "import keras\n",
    "from tensorflow.keras.models import Sequential\n",
    "import tensorflow.keras.backend as K\n",
    "from tensorflow.keras.layers import *\n",
    "from tensorflow.keras.callbacks import EarlyStopping\n",
    "from sklearn.preprocessing import MinMaxScaler\n",
    "from sklearn.metrics import mean_absolute_error as mae\n",
    "from sklearn.model_selection import train_test_split\n",
    "from keras.preprocessing.sequence import TimeseriesGenerator\n",
    "from gc import collect\n",
    "import pprint\n",
    "from colorama import Fore, Style, init;\n",
    "from warnings import filterwarnings;\n",
    "filterwarnings('ignore');"
   ]
  },
  {
   "cell_type": "code",
   "execution_count": 3,
   "id": "3194ee11",
   "metadata": {
    "_cell_guid": "dc59b9a4-c239-4b30-be7d-44cb4f639661",
    "_uuid": "53ff7a08-da45-441e-84e2-2b32d2821f48",
    "collapsed": false,
    "execution": {
     "iopub.execute_input": "2023-10-24T12:10:00.084327Z",
     "iopub.status.busy": "2023-10-24T12:10:00.083676Z",
     "iopub.status.idle": "2023-10-24T12:10:00.090026Z",
     "shell.execute_reply": "2023-10-24T12:10:00.088878Z",
     "shell.execute_reply.started": "2023-10-24T12:10:00.084294Z"
    },
    "jupyter": {
     "outputs_hidden": false
    },
    "papermill": {
     "duration": null,
     "end_time": null,
     "exception": null,
     "start_time": null,
     "status": "pending"
    },
    "tags": []
   },
   "outputs": [],
   "source": [
    "# nice helper function from https://www.kaggle.com/code/ravi20076/optiver-baseline-models\n",
    "def PrintColor(text:str, color = Fore.BLUE, style = Style.BRIGHT):\n",
    "    \"Prints color outputs using colorama using a text F-string\";\n",
    "    print(style + color + text + Style.RESET_ALL);"
   ]
  },
  {
   "cell_type": "code",
   "execution_count": 4,
   "id": "e0039c4b",
   "metadata": {
    "_cell_guid": "f84c36a9-d74d-49e4-ad6b-e053cc945192",
    "_uuid": "75571a1e-fc3a-41d0-95ee-a1724efcd88e",
    "collapsed": false,
    "execution": {
     "iopub.execute_input": "2023-10-24T12:10:00.092546Z",
     "iopub.status.busy": "2023-10-24T12:10:00.091592Z",
     "iopub.status.idle": "2023-10-24T12:10:00.112733Z",
     "shell.execute_reply": "2023-10-24T12:10:00.111895Z",
     "shell.execute_reply.started": "2023-10-24T12:10:00.092503Z"
    },
    "jupyter": {
     "outputs_hidden": false
    },
    "papermill": {
     "duration": null,
     "end_time": null,
     "exception": null,
     "start_time": null,
     "status": "pending"
    },
    "tags": []
   },
   "outputs": [],
   "source": [
    "tf.random.set_seed(42)"
   ]
  },
  {
   "cell_type": "code",
   "execution_count": 7,
   "id": "e6cf8d50",
   "metadata": {
    "_cell_guid": "c9b38926-d7a5-4993-b4d4-21eb5d079000",
    "_uuid": "aa4e929a-1491-431f-a45f-f56bc66334d0",
    "collapsed": false,
    "execution": {
     "iopub.execute_input": "2023-10-24T12:10:00.114859Z",
     "iopub.status.busy": "2023-10-24T12:10:00.114175Z",
     "iopub.status.idle": "2023-10-24T12:10:21.240523Z",
     "shell.execute_reply": "2023-10-24T12:10:21.239471Z",
     "shell.execute_reply.started": "2023-10-24T12:10:00.114801Z"
    },
    "jupyter": {
     "outputs_hidden": false
    },
    "papermill": {
     "duration": null,
     "end_time": null,
     "exception": null,
     "start_time": null,
     "status": "pending"
    },
    "tags": []
   },
   "outputs": [
    {
     "data": {
      "text/html": [
       "<div>\n",
       "<style scoped>\n",
       "    .dataframe tbody tr th:only-of-type {\n",
       "        vertical-align: middle;\n",
       "    }\n",
       "\n",
       "    .dataframe tbody tr th {\n",
       "        vertical-align: top;\n",
       "    }\n",
       "\n",
       "    .dataframe thead th {\n",
       "        text-align: right;\n",
       "    }\n",
       "</style>\n",
       "<table border=\"1\" class=\"dataframe\">\n",
       "  <thead>\n",
       "    <tr style=\"text-align: right;\">\n",
       "      <th></th>\n",
       "      <th>timestamp</th>\n",
       "      <th>open</th>\n",
       "      <th>high</th>\n",
       "      <th>low</th>\n",
       "      <th>close</th>\n",
       "      <th>volume</th>\n",
       "      <th>quote_asset_volume</th>\n",
       "      <th>number_of_trades</th>\n",
       "      <th>taker_buy_base_asset_volume</th>\n",
       "      <th>taker_buy_quote_asset_volume</th>\n",
       "    </tr>\n",
       "  </thead>\n",
       "  <tbody>\n",
       "    <tr>\n",
       "      <th>0</th>\n",
       "      <td>2023-08-01 13:19:00</td>\n",
       "      <td>28902.48</td>\n",
       "      <td>28902.49</td>\n",
       "      <td>28902.48</td>\n",
       "      <td>28902.49</td>\n",
       "      <td>4.686580</td>\n",
       "      <td>1.354538e+05</td>\n",
       "      <td>258</td>\n",
       "      <td>0.893910</td>\n",
       "      <td>25836.224836</td>\n",
       "    </tr>\n",
       "    <tr>\n",
       "      <th>1</th>\n",
       "      <td>2023-08-01 13:18:00</td>\n",
       "      <td>28902.48</td>\n",
       "      <td>28902.49</td>\n",
       "      <td>28902.48</td>\n",
       "      <td>28902.49</td>\n",
       "      <td>4.775890</td>\n",
       "      <td>1.380351e+05</td>\n",
       "      <td>317</td>\n",
       "      <td>2.245460</td>\n",
       "      <td>64899.385195</td>\n",
       "    </tr>\n",
       "    <tr>\n",
       "      <th>2</th>\n",
       "      <td>2023-08-01 13:17:00</td>\n",
       "      <td>28908.52</td>\n",
       "      <td>28908.53</td>\n",
       "      <td>28902.48</td>\n",
       "      <td>28902.49</td>\n",
       "      <td>11.522630</td>\n",
       "      <td>3.330532e+05</td>\n",
       "      <td>451</td>\n",
       "      <td>2.708730</td>\n",
       "      <td>78290.170121</td>\n",
       "    </tr>\n",
       "    <tr>\n",
       "      <th>3</th>\n",
       "      <td>2023-08-01 13:16:00</td>\n",
       "      <td>28907.41</td>\n",
       "      <td>28912.74</td>\n",
       "      <td>28907.41</td>\n",
       "      <td>28908.53</td>\n",
       "      <td>15.896100</td>\n",
       "      <td>4.595556e+05</td>\n",
       "      <td>483</td>\n",
       "      <td>10.229810</td>\n",
       "      <td>295738.166916</td>\n",
       "    </tr>\n",
       "    <tr>\n",
       "      <th>4</th>\n",
       "      <td>2023-08-01 13:15:00</td>\n",
       "      <td>28896.00</td>\n",
       "      <td>28907.42</td>\n",
       "      <td>28893.03</td>\n",
       "      <td>28907.41</td>\n",
       "      <td>37.746570</td>\n",
       "      <td>1.090761e+06</td>\n",
       "      <td>686</td>\n",
       "      <td>16.504520</td>\n",
       "      <td>476955.246611</td>\n",
       "    </tr>\n",
       "    <tr>\n",
       "      <th>...</th>\n",
       "      <td>...</td>\n",
       "      <td>...</td>\n",
       "      <td>...</td>\n",
       "      <td>...</td>\n",
       "      <td>...</td>\n",
       "      <td>...</td>\n",
       "      <td>...</td>\n",
       "      <td>...</td>\n",
       "      <td>...</td>\n",
       "      <td>...</td>\n",
       "    </tr>\n",
       "    <tr>\n",
       "      <th>3125995</th>\n",
       "      <td>2017-08-17 04:04:00</td>\n",
       "      <td>4261.48</td>\n",
       "      <td>4261.48</td>\n",
       "      <td>4261.48</td>\n",
       "      <td>4261.48</td>\n",
       "      <td>0.140796</td>\n",
       "      <td>5.999993e+02</td>\n",
       "      <td>1</td>\n",
       "      <td>0.140796</td>\n",
       "      <td>599.999338</td>\n",
       "    </tr>\n",
       "    <tr>\n",
       "      <th>3125996</th>\n",
       "      <td>2017-08-17 04:03:00</td>\n",
       "      <td>4261.48</td>\n",
       "      <td>4261.48</td>\n",
       "      <td>4261.48</td>\n",
       "      <td>4261.48</td>\n",
       "      <td>0.012008</td>\n",
       "      <td>5.117185e+01</td>\n",
       "      <td>3</td>\n",
       "      <td>0.012008</td>\n",
       "      <td>51.171852</td>\n",
       "    </tr>\n",
       "    <tr>\n",
       "      <th>3125997</th>\n",
       "      <td>2017-08-17 04:02:00</td>\n",
       "      <td>4280.56</td>\n",
       "      <td>4280.56</td>\n",
       "      <td>4280.56</td>\n",
       "      <td>4280.56</td>\n",
       "      <td>0.261074</td>\n",
       "      <td>1.117543e+03</td>\n",
       "      <td>2</td>\n",
       "      <td>0.261074</td>\n",
       "      <td>1117.542921</td>\n",
       "    </tr>\n",
       "    <tr>\n",
       "      <th>3125998</th>\n",
       "      <td>2017-08-17 04:01:00</td>\n",
       "      <td>4261.48</td>\n",
       "      <td>4261.48</td>\n",
       "      <td>4261.48</td>\n",
       "      <td>4261.48</td>\n",
       "      <td>0.000000</td>\n",
       "      <td>0.000000e+00</td>\n",
       "      <td>0</td>\n",
       "      <td>0.000000</td>\n",
       "      <td>0.000000</td>\n",
       "    </tr>\n",
       "    <tr>\n",
       "      <th>3125999</th>\n",
       "      <td>2017-08-17 04:00:00</td>\n",
       "      <td>4261.48</td>\n",
       "      <td>4261.48</td>\n",
       "      <td>4261.48</td>\n",
       "      <td>4261.48</td>\n",
       "      <td>1.775183</td>\n",
       "      <td>7.564907e+03</td>\n",
       "      <td>3</td>\n",
       "      <td>0.075183</td>\n",
       "      <td>320.390851</td>\n",
       "    </tr>\n",
       "  </tbody>\n",
       "</table>\n",
       "<p>3126000 rows × 10 columns</p>\n",
       "</div>"
      ],
      "text/plain": [
       "                   timestamp      open      high       low     close  \\\n",
       "0        2023-08-01 13:19:00  28902.48  28902.49  28902.48  28902.49   \n",
       "1        2023-08-01 13:18:00  28902.48  28902.49  28902.48  28902.49   \n",
       "2        2023-08-01 13:17:00  28908.52  28908.53  28902.48  28902.49   \n",
       "3        2023-08-01 13:16:00  28907.41  28912.74  28907.41  28908.53   \n",
       "4        2023-08-01 13:15:00  28896.00  28907.42  28893.03  28907.41   \n",
       "...                      ...       ...       ...       ...       ...   \n",
       "3125995  2017-08-17 04:04:00   4261.48   4261.48   4261.48   4261.48   \n",
       "3125996  2017-08-17 04:03:00   4261.48   4261.48   4261.48   4261.48   \n",
       "3125997  2017-08-17 04:02:00   4280.56   4280.56   4280.56   4280.56   \n",
       "3125998  2017-08-17 04:01:00   4261.48   4261.48   4261.48   4261.48   \n",
       "3125999  2017-08-17 04:00:00   4261.48   4261.48   4261.48   4261.48   \n",
       "\n",
       "            volume  quote_asset_volume  number_of_trades  \\\n",
       "0         4.686580        1.354538e+05               258   \n",
       "1         4.775890        1.380351e+05               317   \n",
       "2        11.522630        3.330532e+05               451   \n",
       "3        15.896100        4.595556e+05               483   \n",
       "4        37.746570        1.090761e+06               686   \n",
       "...            ...                 ...               ...   \n",
       "3125995   0.140796        5.999993e+02                 1   \n",
       "3125996   0.012008        5.117185e+01                 3   \n",
       "3125997   0.261074        1.117543e+03                 2   \n",
       "3125998   0.000000        0.000000e+00                 0   \n",
       "3125999   1.775183        7.564907e+03                 3   \n",
       "\n",
       "         taker_buy_base_asset_volume  taker_buy_quote_asset_volume  \n",
       "0                           0.893910                  25836.224836  \n",
       "1                           2.245460                  64899.385195  \n",
       "2                           2.708730                  78290.170121  \n",
       "3                          10.229810                 295738.166916  \n",
       "4                          16.504520                 476955.246611  \n",
       "...                              ...                           ...  \n",
       "3125995                     0.140796                    599.999338  \n",
       "3125996                     0.012008                     51.171852  \n",
       "3125997                     0.261074                   1117.542921  \n",
       "3125998                     0.000000                      0.000000  \n",
       "3125999                     0.075183                    320.390851  \n",
       "\n",
       "[3126000 rows x 10 columns]"
      ]
     },
     "execution_count": 7,
     "metadata": {},
     "output_type": "execute_result"
    }
   ],
   "source": [
    "# Imports\n",
    "train = pd.read_csv(r'crypto/train_model/data/bitcoin_2017_to_2023.csv')\n",
    "train"
   ]
  },
  {
   "cell_type": "code",
   "execution_count": 12,
   "id": "43f12c36",
   "metadata": {
    "_cell_guid": "7c3e6bae-642d-409b-92ac-9be2335790b2",
    "_uuid": "97b1af98-3d21-4492-a681-649ecdd998ce",
    "collapsed": false,
    "execution": {
     "iopub.execute_input": "2023-10-24T12:10:21.244621Z",
     "iopub.status.busy": "2023-10-24T12:10:21.244186Z"
    },
    "jupyter": {
     "outputs_hidden": false
    },
    "papermill": {
     "duration": null,
     "end_time": null,
     "exception": null,
     "start_time": null,
     "status": "pending"
    },
    "tags": []
   },
   "outputs": [],
   "source": [
    "# We only need the targets from the training data as we are going to build a time series model for it.\n",
    "# train.sort_values(by=['stock_id', 'date_id', 'seconds_in_bucket'], inplace=True)\n",
    "targets_df = pd.DataFrame(train[['timestamp', 'open', 'high', 'low', 'close', 'volume',\n",
    "       'quote_asset_volume', 'number_of_trades', 'taker_buy_base_asset_volume',\n",
    "       'taker_buy_quote_asset_volume']])"
   ]
  },
  {
   "cell_type": "code",
   "execution_count": null,
   "id": "b278ea76",
   "metadata": {
    "_cell_guid": "2afdb20d-2e5c-4a10-a0a1-88a153190c50",
    "_uuid": "dfcf7083-836f-4705-a046-6fda7dc54326",
    "collapsed": false,
    "execution": {
     "iopub.status.idle": "2023-10-24T12:10:25.299442Z",
     "shell.execute_reply": "2023-10-24T12:10:25.298183Z",
     "shell.execute_reply.started": "2023-10-24T12:10:25.009001Z"
    },
    "jupyter": {
     "outputs_hidden": false
    },
    "papermill": {
     "duration": null,
     "end_time": null,
     "exception": null,
     "start_time": null,
     "status": "pending"
    },
    "tags": []
   },
   "outputs": [],
   "source": [
    "# We can also make a revealed targets dataframe (similar to in the test case)\n",
    "# We get all the targets for the previous days, to ensure there is no leakage we enable a date access column so we can't access dates for the same day\n",
    "# unique_dates = test.date_id.unique()\n",
    "# revealed_targets_test = pd.DataFrame()\n",
    "# targets, dates, access_dates, stocks = [], [], [], []\n",
    "\n",
    "# for date in unique_dates:\n",
    "#     targets.append(train.loc[train.date_id == date]['target'])\n",
    "#     dates.append(train.loc[train.date_id == date - 1]['date_id'])\n",
    "#     access_dates.append(train.loc[train.date_id == date]['date_id'])\n",
    "#     stocks.append(train.loc[train.date_id == date]['stock_id'])\n",
    "\n",
    "# # flatten the n x 3 arrays so they can be added to the dataframe\n",
    "    \n",
    "# revealed_targets_test['revealed_target'] = np.array(targets).flatten()\n",
    "# revealed_targets_test['date_id'] = np.array(dates).flatten()\n",
    "# revealed_targets_test['access_date_id'] = np.array(access_dates).flatten()\n",
    "# revealed_targets_test['stock_id'] = np.array(stocks).flatten()\n",
    "# collect();"
   ]
  },
  {
   "cell_type": "markdown",
   "id": "bb2cbc35",
   "metadata": {
    "_cell_guid": "51582bf7-8f93-4e26-8642-ae3188603f3b",
    "_uuid": "b290c710-3f01-4486-b97c-42f91dc61c9c",
    "papermill": {
     "duration": null,
     "end_time": null,
     "exception": null,
     "start_time": null,
     "status": "pending"
    },
    "tags": []
   },
   "source": [
    ">**In a previous notebook:** I investigate the stationarity of stock 0s timeseries for the target data. The conclusion from the Dickey-Fuller test is it is stationary and therefore needs no trend or differencing adjustment. [here](https://www.kaggle.com/archiecarpenter/baseline-lstm-not-submission-capable)"
   ]
  },
  {
   "cell_type": "markdown",
   "id": "4cbd47a5",
   "metadata": {
    "_cell_guid": "6ffb52dc-85ef-4f65-ab24-d823cda0cfff",
    "_uuid": "536806c3-ef20-4d13-bef4-670bc65876a9",
    "papermill": {
     "duration": null,
     "end_time": null,
     "exception": null,
     "start_time": null,
     "status": "pending"
    },
    "tags": []
   },
   "source": [
    "## Multivariate Data Preprocessing\n",
    "##### Previously in the univariate case the lstm was applied to a series *independent of the stock type*. In the this notebook the aim is to build a model that can capture the differences between the series of each stock and predict accordingly. This means the dataframe needs to be adjusted to reflect this, in the next section I will develop a method to split each stock into its own time series."
   ]
  },
  {
   "cell_type": "code",
   "execution_count": null,
   "id": "6ca6d282",
   "metadata": {
    "_cell_guid": "5223a14d-8293-4e2c-b93f-98d6902c1610",
    "_uuid": "b54e2c56-51a9-43c7-ac60-e723e336366c",
    "collapsed": false,
    "execution": {
     "iopub.execute_input": "2023-10-24T12:10:25.301361Z",
     "iopub.status.busy": "2023-10-24T12:10:25.300962Z",
     "iopub.status.idle": "2023-10-24T12:10:25.499768Z",
     "shell.execute_reply": "2023-10-24T12:10:25.498907Z",
     "shell.execute_reply.started": "2023-10-24T12:10:25.301323Z"
    },
    "jupyter": {
     "outputs_hidden": false
    },
    "papermill": {
     "duration": null,
     "end_time": null,
     "exception": null,
     "start_time": null,
     "status": "pending"
    },
    "tags": []
   },
   "outputs": [],
   "source": [
    "# changing the date to be multivariate where the features are stocks\n",
    "# def split_stocks(df, target_col='target'):\n",
    "#     y = pd.DataFrame()\n",
    "#     # iterate over each stock in the dataframe and assign them to a new df y\n",
    "#     for stock in df.stock_id.unique():\n",
    "#         y[f'stock_{stock}'] = df.loc[df.stock_id == stock][target_col]\n",
    "#     return y\n",
    "# collect();"
   ]
  },
  {
   "cell_type": "code",
   "execution_count": null,
   "id": "d0bd881b",
   "metadata": {
    "_cell_guid": "3c69a104-7f37-4e85-9606-b83eb111547c",
    "_uuid": "7358e1fa-cf97-46ee-8605-00a539df5fef",
    "collapsed": false,
    "execution": {
     "iopub.execute_input": "2023-10-24T12:10:25.501681Z",
     "iopub.status.busy": "2023-10-24T12:10:25.50081Z",
     "iopub.status.idle": "2023-10-24T12:10:25.511449Z",
     "shell.execute_reply": "2023-10-24T12:10:25.510442Z",
     "shell.execute_reply.started": "2023-10-24T12:10:25.501645Z"
    },
    "jupyter": {
     "outputs_hidden": false
    },
    "papermill": {
     "duration": null,
     "end_time": null,
     "exception": null,
     "start_time": null,
     "status": "pending"
    },
    "tags": []
   },
   "outputs": [],
   "source": [
    "# note we cannot run this as there are missing values for certain stocks\n",
    "#y = split_stocks(targets_df)"
   ]
  },
  {
   "cell_type": "code",
   "execution_count": 13,
   "id": "34269544",
   "metadata": {
    "_cell_guid": "58e4c04c-9fa6-43c3-ba70-d8b8395ba22b",
    "_uuid": "a17e18b2-5b61-4183-8684-d4eb16f1f766",
    "collapsed": false,
    "execution": {
     "iopub.execute_input": "2023-10-24T12:10:25.51287Z",
     "iopub.status.busy": "2023-10-24T12:10:25.512563Z",
     "iopub.status.idle": "2023-10-24T12:16:29.036228Z",
     "shell.execute_reply": "2023-10-24T12:16:29.034328Z",
     "shell.execute_reply.started": "2023-10-24T12:10:25.512821Z"
    },
    "jupyter": {
     "outputs_hidden": false
    },
    "papermill": {
     "duration": null,
     "end_time": null,
     "exception": null,
     "start_time": null,
     "status": "pending"
    },
    "tags": []
   },
   "outputs": [
    {
     "name": "stdout",
     "output_type": "stream",
     "text": [
      "Unexpected exception formatting exception. Falling back to standard exception\n"
     ]
    },
    {
     "name": "stderr",
     "output_type": "stream",
     "text": [
      "Traceback (most recent call last):\n",
      "  File \"/home/dojm0727/venv/lib/python3.8/site-packages/IPython/core/magics/execution.py\", line 1325, in time\n",
      "    exec(code, glob, local_ns)\n",
      "  File \"<timed exec>\", line 41, in <module>\n",
      "  File \"<timed exec>\", line 8, in rearrange_df\n",
      "  File \"/home/dojm0727/venv/lib/python3.8/site-packages/pandas/core/generic.py\", line 5989, in __getattr__\n",
      "    return object.__getattribute__(self, name)\n",
      "AttributeError: 'DataFrame' object has no attribute 'date_id'\n",
      "\n",
      "During handling of the above exception, another exception occurred:\n",
      "\n",
      "Traceback (most recent call last):\n",
      "  File \"/home/dojm0727/venv/lib/python3.8/site-packages/IPython/core/interactiveshell.py\", line 2105, in showtraceback\n",
      "    stb = self.InteractiveTB.structured_traceback(\n",
      "  File \"/home/dojm0727/venv/lib/python3.8/site-packages/IPython/core/ultratb.py\", line 1396, in structured_traceback\n",
      "    return FormattedTB.structured_traceback(\n",
      "  File \"/home/dojm0727/venv/lib/python3.8/site-packages/IPython/core/ultratb.py\", line 1287, in structured_traceback\n",
      "    return VerboseTB.structured_traceback(\n",
      "  File \"/home/dojm0727/venv/lib/python3.8/site-packages/IPython/core/ultratb.py\", line 1140, in structured_traceback\n",
      "    formatted_exception = self.format_exception_as_a_whole(etype, evalue, etb, number_of_lines_of_context,\n",
      "  File \"/home/dojm0727/venv/lib/python3.8/site-packages/IPython/core/ultratb.py\", line 1030, in format_exception_as_a_whole\n",
      "    self.get_records(etb, number_of_lines_of_context, tb_offset) if etb else []\n",
      "  File \"/home/dojm0727/venv/lib/python3.8/site-packages/IPython/core/ultratb.py\", line 1122, in get_records\n",
      "    FrameInfo(\n",
      "  File \"/home/dojm0727/venv/lib/python3.8/site-packages/IPython/core/ultratb.py\", line 766, in __init__\n",
      "    ix = inspect.getsourcelines(frame)\n",
      "  File \"/usr/lib/python3.8/inspect.py\", line 979, in getsourcelines\n",
      "    lines, lnum = findsource(object)\n",
      "  File \"/usr/lib/python3.8/inspect.py\", line 798, in findsource\n",
      "    raise OSError('could not get source code')\n",
      "OSError: could not get source code\n"
     ]
    }
   ],
   "source": [
    "%%time\n",
    "# second method\n",
    "\n",
    "# can we create a new dataframe that includes NaN values when a stock doesnt have a value for that date\n",
    "\n",
    "# this method is quicker but still slow (any suggestions to improve this are welcome)\n",
    "def rearrange_df(df, target_col='target'):\n",
    "    # start by getting the unique values of each date, stock and seconds\n",
    "    unique_dates = df.date_id.unique()\n",
    "    unique_stocks = df.stock_id.unique()\n",
    "    unique_seconds = df.seconds_in_bucket.unique()\n",
    "    \n",
    "    cols = list(unique_stocks)\n",
    "    cols.append('date_id')\n",
    "    cols.append('seconds_in_bucket')\n",
    "    # init a df that values can be placed in\n",
    "    d = pd.DataFrame([np.zeros(202)], columns=cols)\n",
    "    \n",
    "    for date in unique_dates:\n",
    "        # get the values for the date_id == date\n",
    "        date_df = df.loc[df.date_id == date]\n",
    "        for seconds in unique_seconds:\n",
    "            # get the values for the seconds_in_bucket == seconds at date_id == date\n",
    "            seconds_df = date_df[date_df.seconds_in_bucket == seconds]\n",
    "\n",
    "            # list of stock_ids that have values at this time point, to be used as columns for temp df\n",
    "            columns = list(seconds_df.stock_id.values)\n",
    "            columns.append('date_id')\n",
    "            columns.append('seconds_in_bucket')\n",
    "\n",
    "            # list of target values, date_id and seconds_in_bucket for the given time point\n",
    "            values = list(seconds_df[target_col].values)\n",
    "            values.append(date)\n",
    "            values.append(seconds)\n",
    "\n",
    "            # init df with these values and concat with first df\n",
    "            seconds_df_new = pd.DataFrame([values], columns=columns)\n",
    "            d = pd.concat([d, seconds_df_new], axis=0, ignore_index=True)\n",
    "\n",
    "    return d\n",
    "\n",
    "d = rearrange_df(targets_df)\n",
    "\n",
    "# drop the row used in the initialisation\n",
    "# d.drop(0, axis=0, inplace=True)\n",
    "# print(d.head(3))\n",
    "# collect();"
   ]
  },
  {
   "cell_type": "markdown",
   "id": "0ba6fc13",
   "metadata": {
    "_cell_guid": "122b30fe-ac1d-40c7-bc5a-a7ae20a1318a",
    "_uuid": "2f026c3b-693c-4046-951f-ca7091658e59",
    "papermill": {
     "duration": null,
     "end_time": null,
     "exception": null,
     "start_time": null,
     "status": "pending"
    },
    "tags": []
   },
   "source": [
    "### Investigating missing values\n",
    "##### We already know there are missing values for stocks at specific timepoints, can we see whether they are distributed evenly or they are for one specific stock."
   ]
  },
  {
   "cell_type": "code",
   "execution_count": null,
   "id": "82f046ba",
   "metadata": {
    "_cell_guid": "d17be96e-83ff-4311-b7c8-fc1817813398",
    "_uuid": "9dbcee4e-fa2e-4e08-8917-5d05df8c1b6d",
    "collapsed": false,
    "execution": {
     "iopub.execute_input": "2023-10-24T12:16:29.038021Z",
     "iopub.status.busy": "2023-10-24T12:16:29.037574Z",
     "iopub.status.idle": "2023-10-24T12:16:29.55431Z",
     "shell.execute_reply": "2023-10-24T12:16:29.553035Z",
     "shell.execute_reply.started": "2023-10-24T12:16:29.03798Z"
    },
    "jupyter": {
     "outputs_hidden": false
    },
    "papermill": {
     "duration": null,
     "end_time": null,
     "exception": null,
     "start_time": null,
     "status": "pending"
    },
    "tags": []
   },
   "outputs": [],
   "source": [
    "numerical_d = d.drop(['date_id', 'seconds_in_bucket'], axis=1)\n",
    "PrintColor('---Percentage of targets that are missing for each stock---')\n",
    "plt.plot(numerical_d.isna().sum() / len(numerical_d))\n",
    "plt.show()\n",
    "collect();"
   ]
  },
  {
   "cell_type": "code",
   "execution_count": null,
   "id": "83f49f47",
   "metadata": {
    "_cell_guid": "01cbcba0-5f9a-4106-9c55-f29626a66f41",
    "_uuid": "e8a3be9f-9eea-4ce0-ba5a-9ad8b963abd6",
    "collapsed": false,
    "execution": {
     "iopub.execute_input": "2023-10-24T12:16:29.556379Z",
     "iopub.status.busy": "2023-10-24T12:16:29.556011Z",
     "iopub.status.idle": "2023-10-24T12:16:29.611689Z",
     "shell.execute_reply": "2023-10-24T12:16:29.610749Z",
     "shell.execute_reply.started": "2023-10-24T12:16:29.556348Z"
    },
    "jupyter": {
     "outputs_hidden": false
    },
    "papermill": {
     "duration": null,
     "end_time": null,
     "exception": null,
     "start_time": null,
     "status": "pending"
    },
    "tags": []
   },
   "outputs": [],
   "source": [
    "# for now just fill the missing values with 0s, in future use more complex ways to impute NaNs\n",
    "numerical_d.fillna(0, inplace=True)"
   ]
  },
  {
   "cell_type": "markdown",
   "id": "f7cf175e",
   "metadata": {
    "_cell_guid": "4b82b51a-76cf-4d4c-810f-df9b70e925f1",
    "_uuid": "5704664c-0339-42df-8f0e-c70812fcf7f5",
    "papermill": {
     "duration": null,
     "end_time": null,
     "exception": null,
     "start_time": null,
     "status": "pending"
    },
    "tags": []
   },
   "source": [
    "### Normalisation"
   ]
  },
  {
   "cell_type": "code",
   "execution_count": null,
   "id": "e5136e7c",
   "metadata": {
    "_cell_guid": "9a145e8d-9c8c-4c73-85b1-962f963ebb78",
    "_uuid": "2bb744bf-acd8-4f08-82cd-9805ec4aa87d",
    "collapsed": false,
    "execution": {
     "iopub.execute_input": "2023-10-24T12:16:29.613596Z",
     "iopub.status.busy": "2023-10-24T12:16:29.613194Z",
     "iopub.status.idle": "2023-10-24T12:16:29.622243Z",
     "shell.execute_reply": "2023-10-24T12:16:29.621036Z",
     "shell.execute_reply.started": "2023-10-24T12:16:29.613558Z"
    },
    "jupyter": {
     "outputs_hidden": false
    },
    "papermill": {
     "duration": null,
     "end_time": null,
     "exception": null,
     "start_time": null,
     "status": "pending"
    },
    "tags": []
   },
   "outputs": [],
   "source": [
    "scaler = MinMaxScaler(feature_range=(-1, 1))\n",
    "# Normalise and fit the data (only to be used on the training set)\n",
    "def normalise_and_fit(df):\n",
    "    df = df.copy()\n",
    "    df[df.columns] = scaler.fit_transform(df[df.columns])\n",
    "    return df\n",
    "\n",
    "# Just normalise the data, used in test and validation\n",
    "def normalize_df(df):\n",
    "    df = df.copy()\n",
    "    df[df.columns] = scaler.transform(df[df.columns])\n",
    "    return df\n",
    "\n",
    "# different helper function for just 1D arrays\n",
    "def normalize_1D_array(arr, n_samples=1, n_features=200):\n",
    "    arr = scaler.transform(X.reshape(n_samples, n_features))\n",
    "    return arr"
   ]
  },
  {
   "cell_type": "code",
   "execution_count": null,
   "id": "48b619c8",
   "metadata": {
    "_cell_guid": "ffd47cae-b8e1-40e1-9bd2-2aea0e791368",
    "_uuid": "f87bb073-1bd9-47c6-bdf7-e87d18a7d8cf",
    "collapsed": false,
    "execution": {
     "iopub.execute_input": "2023-10-24T12:16:29.624224Z",
     "iopub.status.busy": "2023-10-24T12:16:29.623757Z",
     "iopub.status.idle": "2023-10-24T12:16:29.804394Z",
     "shell.execute_reply": "2023-10-24T12:16:29.803403Z",
     "shell.execute_reply.started": "2023-10-24T12:16:29.624183Z"
    },
    "jupyter": {
     "outputs_hidden": false
    },
    "papermill": {
     "duration": null,
     "end_time": null,
     "exception": null,
     "start_time": null,
     "status": "pending"
    },
    "tags": []
   },
   "outputs": [],
   "source": [
    "normalised_numerical_df = normalise_and_fit(numerical_d)"
   ]
  },
  {
   "cell_type": "markdown",
   "id": "f1bc3372",
   "metadata": {
    "_cell_guid": "381f8af2-1492-447d-b3cd-ace0842be6df",
    "_uuid": "2dcf98e4-21fb-4ea4-8f6c-8fe626da2cf1",
    "papermill": {
     "duration": null,
     "end_time": null,
     "exception": null,
     "start_time": null,
     "status": "pending"
    },
    "tags": []
   },
   "source": [
    "### Training"
   ]
  },
  {
   "cell_type": "code",
   "execution_count": null,
   "id": "f0094d08",
   "metadata": {
    "_cell_guid": "193acd08-2a46-44a3-8110-119c34d39081",
    "_uuid": "4d27f297-e227-4498-80b0-a6de63be9887",
    "collapsed": false,
    "execution": {
     "iopub.execute_input": "2023-10-24T12:16:29.809567Z",
     "iopub.status.busy": "2023-10-24T12:16:29.809227Z",
     "iopub.status.idle": "2023-10-24T12:16:30.26815Z",
     "shell.execute_reply": "2023-10-24T12:16:30.267236Z",
     "shell.execute_reply.started": "2023-10-24T12:16:29.809539Z"
    },
    "jupyter": {
     "outputs_hidden": false
    },
    "papermill": {
     "duration": null,
     "end_time": null,
     "exception": null,
     "start_time": null,
     "status": "pending"
    },
    "tags": []
   },
   "outputs": [],
   "source": [
    "# gets close to 60% train, 15% validation, 15% test\n",
    "train, test_df = train_test_split(normalised_numerical_df, train_size = .85, random_state=42, shuffle=False)\n",
    "train_df, val_df = train_test_split(train, train_size=12/17, random_state=42, shuffle=False)"
   ]
  },
  {
   "cell_type": "code",
   "execution_count": null,
   "id": "5b9ae69e",
   "metadata": {
    "_cell_guid": "ae27f26c-0126-4730-8cce-1c6740a5216e",
    "_uuid": "a98e3cfa-41b8-44b8-a4ef-c546376910b4",
    "collapsed": false,
    "execution": {
     "iopub.execute_input": "2023-10-24T12:16:30.269712Z",
     "iopub.status.busy": "2023-10-24T12:16:30.269372Z",
     "iopub.status.idle": "2023-10-24T12:16:30.275166Z",
     "shell.execute_reply": "2023-10-24T12:16:30.27391Z",
     "shell.execute_reply.started": "2023-10-24T12:16:30.269682Z"
    },
    "jupyter": {
     "outputs_hidden": false
    },
    "papermill": {
     "duration": null,
     "end_time": null,
     "exception": null,
     "start_time": null,
     "status": "pending"
    },
    "tags": []
   },
   "outputs": [],
   "source": [
    "length = 55\n",
    "input_series_length = 55\n",
    "output_series_length = 55\n",
    "n_features = 200\n",
    "batch_size = 128\n",
    "n_samples = len(train) // batch_size"
   ]
  },
  {
   "cell_type": "code",
   "execution_count": null,
   "id": "cf0b385d",
   "metadata": {
    "_cell_guid": "fce3da3a-d622-4ea9-b542-214947e20859",
    "_uuid": "5c17e1b8-59ec-4e8b-989d-69c888a5aa0c",
    "collapsed": false,
    "execution": {
     "iopub.execute_input": "2023-10-24T12:16:30.277051Z",
     "iopub.status.busy": "2023-10-24T12:16:30.276653Z",
     "iopub.status.idle": "2023-10-24T12:16:30.287852Z",
     "shell.execute_reply": "2023-10-24T12:16:30.286956Z",
     "shell.execute_reply.started": "2023-10-24T12:16:30.277014Z"
    },
    "jupyter": {
     "outputs_hidden": false
    },
    "papermill": {
     "duration": null,
     "end_time": null,
     "exception": null,
     "start_time": null,
     "status": "pending"
    },
    "tags": []
   },
   "outputs": [],
   "source": [
    "# as seen in https://www.kaggle.com/code/nicapotato/keras-timeseries-multi-step-multi-output/notebook\n",
    "def multivariate_multioutput_data(dataset, target, start_index, end_index, history_size,\n",
    "                      target_size, step, single_step=False):\n",
    "    data = []\n",
    "    labels = []\n",
    "\n",
    "    start_index = start_index + history_size\n",
    "    if end_index is None:\n",
    "        end_index = len(dataset) - target_size\n",
    "\n",
    "    for i in range(start_index, end_index):\n",
    "        indices = range(i-history_size, i, step)\n",
    "        data.append(dataset[indices])\n",
    "        \n",
    "        if single_step:\n",
    "            labels.append(target[i+target_size])\n",
    "        else:\n",
    "            labels.append(target[i:i+target_size])\n",
    "    \n",
    "    return np.array(data), np.array(labels)"
   ]
  },
  {
   "cell_type": "code",
   "execution_count": null,
   "id": "42dc905d",
   "metadata": {
    "_cell_guid": "fc9e3c49-b751-4d10-b831-30f4ca60512f",
    "_uuid": "034d9cee-b5a3-4ca5-af80-a494050825a7",
    "collapsed": false,
    "execution": {
     "iopub.execute_input": "2023-10-24T12:16:30.289206Z",
     "iopub.status.busy": "2023-10-24T12:16:30.288921Z",
     "iopub.status.idle": "2023-10-24T12:16:33.93141Z",
     "shell.execute_reply": "2023-10-24T12:16:33.930486Z",
     "shell.execute_reply.started": "2023-10-24T12:16:30.289182Z"
    },
    "jupyter": {
     "outputs_hidden": false
    },
    "papermill": {
     "duration": null,
     "end_time": null,
     "exception": null,
     "start_time": null,
     "status": "pending"
    },
    "scrolled": true,
    "tags": []
   },
   "outputs": [],
   "source": [
    "train_X, train_y = multivariate_multioutput_data(train_df.to_numpy(), train_df.to_numpy(), 0, None, input_series_length, output_series_length, 1)\n",
    "val_X, val_y = multivariate_multioutput_data(val_df.to_numpy(), val_df.to_numpy(), 0, None, input_series_length, output_series_length, 1)\n",
    "test_X, test_y = multivariate_multioutput_data(test_df.to_numpy(), test_df.to_numpy(), 0, None, input_series_length, output_series_length, 1)"
   ]
  },
  {
   "cell_type": "code",
   "execution_count": null,
   "id": "b94610f9",
   "metadata": {
    "_cell_guid": "befcabbc-2095-4c39-8004-1347ccf91361",
    "_uuid": "12f7885e-2e02-4afe-ab0a-7f1a4ba9e00d",
    "collapsed": false,
    "execution": {
     "iopub.execute_input": "2023-10-24T12:16:33.932864Z",
     "iopub.status.busy": "2023-10-24T12:16:33.932551Z",
     "iopub.status.idle": "2023-10-24T12:16:33.939262Z",
     "shell.execute_reply": "2023-10-24T12:16:33.938049Z",
     "shell.execute_reply.started": "2023-10-24T12:16:33.93282Z"
    },
    "jupyter": {
     "outputs_hidden": false
    },
    "papermill": {
     "duration": null,
     "end_time": null,
     "exception": null,
     "start_time": null,
     "status": "pending"
    },
    "tags": []
   },
   "outputs": [],
   "source": [
    "print (train_X.shape,\n",
    "       train_y.shape,\n",
    "       val_X.shape,\n",
    "       val_y.shape,\n",
    "       'Single window of past history : {}'.format(train_X[0].shape),\n",
    "       'Target window to predict : {}'.format(train_y[0].shape),\n",
    "       sep='\\n')"
   ]
  },
  {
   "cell_type": "code",
   "execution_count": null,
   "id": "6ad1b8da",
   "metadata": {
    "_cell_guid": "5839bf23-9287-4b28-b918-3408d412af60",
    "_uuid": "c15d84fd-5d4e-4398-bfb3-201e219974b2",
    "collapsed": false,
    "execution": {
     "iopub.execute_input": "2023-10-24T12:16:33.941096Z",
     "iopub.status.busy": "2023-10-24T12:16:33.940672Z",
     "iopub.status.idle": "2023-10-24T12:16:38.151306Z",
     "shell.execute_reply": "2023-10-24T12:16:38.150232Z",
     "shell.execute_reply.started": "2023-10-24T12:16:33.941058Z"
    },
    "jupyter": {
     "outputs_hidden": false
    },
    "papermill": {
     "duration": null,
     "end_time": null,
     "exception": null,
     "start_time": null,
     "status": "pending"
    },
    "tags": []
   },
   "outputs": [],
   "source": [
    "train_data_multi = tf.data.Dataset.from_tensor_slices((train_X, train_y))\n",
    "train_data_multi = train_data_multi.batch(batch_size).repeat()\n",
    "\n",
    "test_data_multi = tf.data.Dataset.from_tensor_slices((test_X))\n",
    "test_data_multi = test_data_multi.batch(batch_size)\n",
    "\n",
    "val_data_multi = tf.data.Dataset.from_tensor_slices((val_X, val_y))\n",
    "val_data_multi = val_data_multi.batch(batch_size).repeat()\n",
    "collect();"
   ]
  },
  {
   "cell_type": "code",
   "execution_count": null,
   "id": "14c7decf",
   "metadata": {
    "_cell_guid": "d9a0229d-a5a8-4f7d-b3e3-314e611581a9",
    "_uuid": "f7825263-8d90-4e24-97a2-c3bc8d1ad947",
    "collapsed": false,
    "execution": {
     "iopub.execute_input": "2023-10-24T12:21:43.011522Z",
     "iopub.status.busy": "2023-10-24T12:21:43.011118Z",
     "iopub.status.idle": "2023-10-24T12:21:43.021488Z",
     "shell.execute_reply": "2023-10-24T12:21:43.020311Z",
     "shell.execute_reply.started": "2023-10-24T12:21:43.011491Z"
    },
    "jupyter": {
     "outputs_hidden": false
    },
    "papermill": {
     "duration": null,
     "end_time": null,
     "exception": null,
     "start_time": null,
     "status": "pending"
    },
    "tags": []
   },
   "outputs": [],
   "source": [
    "class Time2Vec(Layer):\n",
    "    def __init__(self, output_dim, **kwargs):\n",
    "        self.output_dim = output_dim\n",
    "        super(Time2Vec, self).__init__(**kwargs)\n",
    "\n",
    "    def build(self, input_shape):\n",
    "        _, self.sequence_length, self.n_features = input_shape\n",
    "\n",
    "        self.W = self.add_weight(name='W',\n",
    "                                shape=(self.sequence_length, self.n_features),\n",
    "                                initializer='uniform',\n",
    "                                trainable=True)\n",
    "\n",
    "        self.P = self.add_weight(name='P',\n",
    "                                shape=(self.sequence_length, self.n_features),\n",
    "                                initializer='uniform',\n",
    "                                trainable=True)\n",
    "\n",
    "        super(Time2Vec, self).build(input_shape)\n",
    "\n",
    "    def call(self, x):\n",
    "        \n",
    "        original =  x * self.W + self.P\n",
    "        sin_trans = tf.sin(original[:,:-1,:])\n",
    "        return tf.concat([sin_trans, original[:,-1,:][:,tf.newaxis,:]], axis=1)"
   ]
  },
  {
   "cell_type": "code",
   "execution_count": null,
   "id": "e01650a1",
   "metadata": {
    "_cell_guid": "cb9279fc-a6d2-476b-98a2-e646e8268824",
    "_uuid": "393353ed-3e56-44b6-aad0-5e3ac3753f36",
    "collapsed": false,
    "execution": {
     "iopub.execute_input": "2023-10-24T12:21:44.545869Z",
     "iopub.status.busy": "2023-10-24T12:21:44.545139Z",
     "iopub.status.idle": "2023-10-24T12:21:45.036612Z",
     "shell.execute_reply": "2023-10-24T12:21:45.035524Z",
     "shell.execute_reply.started": "2023-10-24T12:21:44.545819Z"
    },
    "jupyter": {
     "outputs_hidden": false
    },
    "papermill": {
     "duration": null,
     "end_time": null,
     "exception": null,
     "start_time": null,
     "status": "pending"
    },
    "tags": []
   },
   "outputs": [],
   "source": [
    "# Add the Time2Vec layer (modify 'output_dim' as needed)\n",
    "model = Sequential()\n",
    "\n",
    "model.add(Time2Vec(output_dim=200, input_shape=(55, n_features)))\n",
    "\n",
    "# Add the LSTM layer with return_sequences=True\n",
    "model.add(LSTM(200, activation='tanh', return_sequences=True))\n",
    "\n",
    "# Compile the model\n",
    "model.compile(optimizer='adam', loss='mae', metrics=['mse', 'accuracy'])\n",
    "\n",
    "# Print model summary\n",
    "model.summary()"
   ]
  },
  {
   "cell_type": "code",
   "execution_count": null,
   "id": "8ca12c03",
   "metadata": {
    "_cell_guid": "5fb2dcdf-cd38-41ac-8c4a-e89cdf64b19a",
    "_uuid": "bbfdbf3e-c126-4ffc-be80-c562df1fd1e4",
    "collapsed": false,
    "execution": {
     "iopub.execute_input": "2023-10-24T12:21:47.61825Z",
     "iopub.status.busy": "2023-10-24T12:21:47.617151Z",
     "iopub.status.idle": "2023-10-24T12:21:47.624216Z",
     "shell.execute_reply": "2023-10-24T12:21:47.623132Z",
     "shell.execute_reply.started": "2023-10-24T12:21:47.618198Z"
    },
    "jupyter": {
     "outputs_hidden": false
    },
    "papermill": {
     "duration": null,
     "end_time": null,
     "exception": null,
     "start_time": null,
     "status": "pending"
    },
    "tags": []
   },
   "outputs": [],
   "source": [
    "early_stopping = EarlyStopping(monitor='val_loss', patience = 5, restore_best_weights=True)"
   ]
  },
  {
   "cell_type": "code",
   "execution_count": null,
   "id": "4909785a",
   "metadata": {
    "_cell_guid": "f3751643-3add-47d2-ac9a-0ab1594961a6",
    "_uuid": "8c455267-af19-4200-a9bb-03a15d61a78c",
    "collapsed": false,
    "execution": {
     "iopub.execute_input": "2023-10-24T12:21:52.409936Z",
     "iopub.status.busy": "2023-10-24T12:21:52.409505Z",
     "iopub.status.idle": "2023-10-24T12:37:14.852995Z",
     "shell.execute_reply": "2023-10-24T12:37:14.851737Z",
     "shell.execute_reply.started": "2023-10-24T12:21:52.409901Z"
    },
    "jupyter": {
     "outputs_hidden": false
    },
    "papermill": {
     "duration": null,
     "end_time": null,
     "exception": null,
     "start_time": null,
     "status": "pending"
    },
    "scrolled": true,
    "tags": []
   },
   "outputs": [],
   "source": [
    "history = model.fit(train_data_multi, validation_data=val_data_multi, steps_per_epoch = n_samples, validation_steps=n_samples, epochs=100, verbose=1, callbacks=[early_stopping]).history"
   ]
  },
  {
   "cell_type": "code",
   "execution_count": null,
   "id": "47c0795f",
   "metadata": {
    "_cell_guid": "f6593c23-2055-45ab-bbc7-1e2b927021d6",
    "_uuid": "3c6cbf6a-88c9-4cb2-96be-429482854a85",
    "collapsed": false,
    "execution": {
     "iopub.execute_input": "2023-10-24T12:37:55.564984Z",
     "iopub.status.busy": "2023-10-24T12:37:55.564534Z",
     "iopub.status.idle": "2023-10-24T12:37:55.908203Z",
     "shell.execute_reply": "2023-10-24T12:37:55.907074Z",
     "shell.execute_reply.started": "2023-10-24T12:37:55.56494Z"
    },
    "jupyter": {
     "outputs_hidden": false
    },
    "papermill": {
     "duration": null,
     "end_time": null,
     "exception": null,
     "start_time": null,
     "status": "pending"
    },
    "tags": []
   },
   "outputs": [],
   "source": [
    "plt.plot(history['loss'])\n",
    "plt.plot(history['val_loss'])\n",
    "plt.title('model train vs validation loss')\n",
    "plt.ylabel('loss')\n",
    "plt.xlabel('epoch')\n",
    "plt.legend(['train', 'validation'], loc='upper right')\n",
    "plt.show()"
   ]
  },
  {
   "cell_type": "markdown",
   "id": "d2e034a6",
   "metadata": {
    "_cell_guid": "54bba15b-75c7-4e74-938f-785369fc7b4f",
    "_uuid": "e7aec7b4-065a-4357-a34a-f2de9ee9fd8a",
    "papermill": {
     "duration": null,
     "end_time": null,
     "exception": null,
     "start_time": null,
     "status": "pending"
    },
    "tags": []
   },
   "source": [
    "### Making Predictions"
   ]
  },
  {
   "cell_type": "code",
   "execution_count": null,
   "id": "e07346b2",
   "metadata": {
    "_cell_guid": "93b001f2-9871-4f47-817d-8d008f418e7e",
    "_uuid": "70b45536-1db8-4d8c-9e26-3927b9168571",
    "collapsed": false,
    "execution": {
     "iopub.execute_input": "2023-10-24T12:38:01.513025Z",
     "iopub.status.busy": "2023-10-24T12:38:01.512611Z",
     "iopub.status.idle": "2023-10-24T12:38:08.04667Z",
     "shell.execute_reply": "2023-10-24T12:38:08.045254Z",
     "shell.execute_reply.started": "2023-10-24T12:38:01.51299Z"
    },
    "jupyter": {
     "outputs_hidden": false
    },
    "papermill": {
     "duration": null,
     "end_time": null,
     "exception": null,
     "start_time": null,
     "status": "pending"
    },
    "tags": []
   },
   "outputs": [],
   "source": [
    "predictions = model.predict(test_X)\n",
    "scaled_pred = scaler.inverse_transform(predictions.reshape(predictions.shape[0] * predictions.shape[1], predictions.shape[2]))\n",
    "scaled_true = scaler.inverse_transform(test_y.reshape(predictions.shape[0] * predictions.shape[1], predictions.shape[2]))"
   ]
  },
  {
   "cell_type": "code",
   "execution_count": null,
   "id": "0cc3225c",
   "metadata": {
    "_cell_guid": "63b644a5-1f16-4efc-b1ec-20855dbcf195",
    "_uuid": "c7b27ea8-bf10-434c-b6dd-acd167848b7d",
    "collapsed": false,
    "execution": {
     "iopub.execute_input": "2023-10-24T12:38:16.936984Z",
     "iopub.status.busy": "2023-10-24T12:38:16.936541Z",
     "iopub.status.idle": "2023-10-24T12:38:17.912764Z",
     "shell.execute_reply": "2023-10-24T12:38:17.911595Z",
     "shell.execute_reply.started": "2023-10-24T12:38:16.93695Z"
    },
    "jupyter": {
     "outputs_hidden": false
    },
    "papermill": {
     "duration": null,
     "end_time": null,
     "exception": null,
     "start_time": null,
     "status": "pending"
    },
    "tags": []
   },
   "outputs": [],
   "source": [
    "PrintColor(f'MAE on normalised test data: {mae(test_y.flatten(), predictions.flatten())}')\n",
    "PrintColor(f'MAE on test data: {mae(scaled_true, scaled_pred)}')"
   ]
  }
 ],
 "metadata": {
  "kaggle": {
   "accelerator": "none",
   "dataSources": [
    {
     "databundleVersionId": 7056235,
     "sourceId": 57891,
     "sourceType": "competition"
    }
   ],
   "dockerImageVersionId": 30558,
   "isGpuEnabled": false,
   "isInternetEnabled": false,
   "language": "python",
   "sourceType": "notebook"
  },
  "kernelspec": {
   "display_name": "Python 3",
   "language": "python",
   "name": "python3"
  },
  "language_info": {
   "codemirror_mode": {
    "name": "ipython",
    "version": 3
   },
   "file_extension": ".py",
   "mimetype": "text/x-python",
   "name": "python",
   "nbconvert_exporter": "python",
   "pygments_lexer": "ipython3",
   "version": "3.8.10"
  },
  "papermill": {
   "default_parameters": {},
   "duration": 4.669517,
   "end_time": "2023-12-09T20:03:49.886411",
   "environment_variables": {},
   "exception": true,
   "input_path": "__notebook__.ipynb",
   "output_path": "__notebook__.ipynb",
   "parameters": {},
   "start_time": "2023-12-09T20:03:45.216894",
   "version": "2.4.0"
  }
 },
 "nbformat": 4,
 "nbformat_minor": 5
}
